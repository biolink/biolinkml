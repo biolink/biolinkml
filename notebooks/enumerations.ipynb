{
 "cells": [
  {
   "cell_type": "markdown",
   "metadata": {
    "collapsed": true,
    "pycharm": {
     "name": "#%% md\n"
    }
   },
   "source": [
    "# Enumerations\n",
    "BiolinkML supports a wide spectrum of enumerations, from simple option lists to values come directly from\n",
    "ontologies or pre-defined value sets."
   ]
  },
  {
   "cell_type": "code",
   "execution_count": 1,
   "metadata": {
    "execution": {
     "iopub.execute_input": "2020-11-19T15:45:47.890331Z",
     "iopub.status.busy": "2020-11-19T15:45:47.889677Z",
     "iopub.status.idle": "2020-11-19T15:45:54.809471Z",
     "shell.execute_reply": "2020-11-19T15:45:54.809956Z"
    },
    "pycharm": {
     "name": "#%%\n"
    }
   },
   "outputs": [],
   "source": [
    "!pip install -q --disable-pip-version-check yamlmagic\n",
    "!pip install -q --disable-pip-version-check -e .. --upgrade"
   ]
  },
  {
   "cell_type": "code",
   "execution_count": 2,
   "metadata": {
    "execution": {
     "iopub.execute_input": "2020-11-19T15:45:54.814499Z",
     "iopub.status.busy": "2020-11-19T15:45:54.813868Z",
     "iopub.status.idle": "2020-11-19T15:45:54.837518Z",
     "shell.execute_reply": "2020-11-19T15:45:54.838027Z"
    },
    "pycharm": {
     "name": "#%%\n"
    }
   },
   "outputs": [],
   "source": [
    "%load_ext yamlmagic"
   ]
  },
  {
   "cell_type": "markdown",
   "source": [
    "## Helper function\n",
    "Convert yaml into python"
   ],
   "metadata": {
    "collapsed": false,
    "pycharm": {
     "name": "#%% md\n"
    }
   }
  },
  {
   "cell_type": "code",
   "execution_count": 3,
   "outputs": [],
   "source": [
    "from biolinkml.generators.pythongen import PythonGenerator\n",
    "from biolinkml.utils.compile_python import compile_python\n",
    "from biolinkml.meta import SchemaDefinition\n",
    "\n",
    "def compile_model(model: str, print_python: bool=False) -> SchemaDefinition:\n",
    "    gen = PythonGenerator(model, merge_imports=False, gen_classvars=False, gen_slots=False)\n",
    "    code = gen.serialize()\n",
    "    if print_python:\n",
    "        print(code)\n",
    "    return compile_python(code)"
   ],
   "metadata": {
    "collapsed": false,
    "pycharm": {
     "name": "#%%\n"
    }
   }
  },
  {
   "cell_type": "markdown",
   "metadata": {},
   "source": [
    "## The simplist form of an enumeration is a tag and (optional) value list\n"
   ]
  },
  {
   "cell_type": "code",
   "execution_count": 4,
   "outputs": [
    {
     "data": {
      "text/plain": "<IPython.core.display.Javascript object>",
      "application/javascript": "\n            require(\n                [\n                    \"notebook/js/codecell\",\n                    \"codemirror/mode/yaml/yaml\"\n                ],\n                function(cc){\n                    cc.CodeCell.options_default.highlight_modes.magic_yaml = {\n                        reg: [\"^%%yaml\"]\n                    }\n                }\n            );\n            "
     },
     "metadata": {},
     "output_type": "display_data"
    }
   ],
   "source": [
    "%%yaml model\n",
    "\n",
    "id: http://example.org/test/simple\n",
    "name: simple\n",
    "description: Very simple enumeration\n",
    "\n",
    "prefixes:\n",
    "  biolinkml: https://w3id.org/biolink/biolinkml/\n",
    "  play: http://example.org/test/play/\n",
    "\n",
    "default_range: string\n",
    "default_prefix: play\n",
    "\n",
    "imports:\n",
    "  - biolinkml:types\n",
    "\n",
    "\n",
    "enums:\n",
    "  OpenEnum:\n",
    "    description: Baseline enumeration -- simple code/value pairs, where the value (description) is optional\n",
    "    permissible_values:\n",
    "      a: top\n",
    "      b: middle\n",
    "      c: bottom\n",
    "      d:\n",
    "\n",
    "classes:\n",
    "    PositionalRecord:\n",
    "        attributes:\n",
    "            id:\n",
    "                range: string\n",
    "                identifier: true\n",
    "            position:\n",
    "                range: OpenEnum\n",
    "                required: true\n"
   ],
   "metadata": {
    "collapsed": false,
    "pycharm": {
     "name": "#%%\n"
    }
   }
  },
  {
   "cell_type": "code",
   "execution_count": 5,
   "metadata": {
    "execution": {
     "iopub.execute_input": "2020-11-19T15:45:54.858469Z",
     "iopub.status.busy": "2020-11-19T15:45:54.857583Z",
     "iopub.status.idle": "2020-11-19T15:45:55.603333Z",
     "shell.execute_reply": "2020-11-19T15:45:55.603735Z"
    },
    "pycharm": {
     "name": "#%%\n"
    }
   },
   "outputs": [
    {
     "name": "stdout",
     "output_type": "stream",
     "text": [
      "# Auto generated from None by pythongen.py version: 0.9.0\n",
      "# Generation date: 2020-12-18 10:51\n",
      "# Schema: simple\n",
      "#\n",
      "# id: http://example.org/test/simple\n",
      "# description: Very simple enumeration\n",
      "# license: https://creativecommons.org/publicdomain/zero/1.0/\n",
      "\n",
      "import dataclasses\n",
      "import sys\n",
      "import re\n",
      "from typing import Optional, List, Union, Dict, ClassVar, Any\n",
      "from dataclasses import dataclass\n",
      "from biolinkml.meta import EnumDefinition, PermissibleValue, PvFormulaOptions\n",
      "\n",
      "from biolinkml.utils.slot import Slot\n",
      "from biolinkml.utils.metamodelcore import empty_list, empty_dict, bnode\n",
      "from biolinkml.utils.yamlutils import YAMLRoot, extended_str, extended_float, extended_int\n",
      "if sys.version_info < (3, 7, 6):\n",
      "    from biolinkml.utils.dataclass_extensions_375 import dataclasses_init_fn_with_kwargs\n",
      "else:\n",
      "    from biolinkml.utils.dataclass_extensions_376 import dataclasses_init_fn_with_kwargs\n",
      "from biolinkml.utils.formatutils import camelcase, underscore, sfx\n",
      "from biolinkml.utils.enumerations import EnumDefinitionImpl\n",
      "from rdflib import Namespace, URIRef\n",
      "from biolinkml.utils.curienamespace import CurieNamespace\n",
      "from includes.types import String\n",
      "\n",
      "metamodel_version = \"1.7.0\"\n",
      "\n",
      "# Overwrite dataclasses _init_fn to add **kwargs in __init__\n",
      "dataclasses._init_fn = dataclasses_init_fn_with_kwargs\n",
      "\n",
      "# Namespaces\n",
      "BIOLINKML = CurieNamespace('biolinkml', 'https://w3id.org/biolink/biolinkml/')\n",
      "PLAY = CurieNamespace('play', 'http://example.org/test/play/')\n",
      "DEFAULT_ = PLAY\n",
      "\n",
      "\n",
      "# Types\n",
      "\n",
      "# Class references\n",
      "class PositionalRecordId(extended_str):\n",
      "    pass\n",
      "\n",
      "\n",
      "@dataclass\n",
      "class PositionalRecord(YAMLRoot):\n",
      "    id: Union[str, PositionalRecordId] = None\n",
      "    position: Union[str, \"OpenEnum\"] = None\n",
      "\n",
      "    def __post_init__(self, *_: List[str], **kwargs: Dict[str, Any]):\n",
      "        if self.id is None:\n",
      "            raise ValueError(\"id must be supplied\")\n",
      "        if not isinstance(self.id, PositionalRecordId):\n",
      "            self.id = PositionalRecordId(self.id)\n",
      "\n",
      "        if self.position is None:\n",
      "            raise ValueError(\"position must be supplied\")\n",
      "        if not isinstance(self.position, OpenEnum):\n",
      "            self.position = OpenEnum(self.position)\n",
      "\n",
      "        super().__post_init__(**kwargs)\n",
      "\n",
      "\n",
      "# Enumerations\n",
      "class OpenEnum(EnumDefinitionImpl):\n",
      "    \"\"\"\n",
      "    Baseline enumeration -- simple code/value pairs, where the value (description) is optional\n",
      "    \"\"\"\n",
      "    a = PermissibleValue(text=\"a\",\n",
      "                         description=\"top\")\n",
      "    b = PermissibleValue(text=\"b\",\n",
      "                         description=\"middle\")\n",
      "    c = PermissibleValue(text=\"c\",\n",
      "                         description=\"bottom\")\n",
      "    d = PermissibleValue(text=\"d\")\n",
      "\n",
      "    _defn = EnumDefinition(\n",
      "        name=\"OpenEnum\",\n",
      "        description=\"Baseline enumeration -- simple code/value pairs, where the value (description) is optional\",\n",
      "    )\n",
      "\n",
      "# Slots\n",
      "\n",
      "PositionalRecord(id='my location', position=(text='a', description='top'))\n",
      "a: top\n",
      "(text='a', description='top')\n",
      "Unknown OpenEnum enumeration code: z\n"
     ]
    }
   ],
   "source": [
    "module = compile_model(model, print_python=True)\n",
    "c1 = module.PositionalRecord('my location', 'a')\n",
    "print(str(c1))\n",
    "print(str(c1.position))\n",
    "print(repr(c1.position))\n",
    "try:\n",
    "    c2 = module.PositionalRecord('your location', 'z')\n",
    "except ValueError as e:\n",
    "    print(e)"
   ]
  },
  {
   "cell_type": "markdown",
   "source": [
    "## Note that non-python values still work, although they won't appear in the auto-complete section"
   ],
   "metadata": {
    "collapsed": false,
    "pycharm": {
     "name": "#%% md\n"
    }
   }
  },
  {
   "cell_type": "code",
   "execution_count": 6,
   "outputs": [
    {
     "data": {
      "text/plain": "<IPython.core.display.Javascript object>",
      "application/javascript": "\n            require(\n                [\n                    \"notebook/js/codecell\",\n                    \"codemirror/mode/yaml/yaml\"\n                ],\n                function(cc){\n                    cc.CodeCell.options_default.highlight_modes.magic_yaml = {\n                        reg: [\"^%%yaml\"]\n                    }\n                }\n            );\n            "
     },
     "metadata": {},
     "output_type": "display_data"
    }
   ],
   "source": [
    "%%yaml model2\n",
    "\n",
    "id: http://example.org/test/simple\n",
    "name: simple\n",
    "description: Enumeration with some non-std values\n",
    "\n",
    "prefixes:\n",
    "  biolinkml: https://w3id.org/biolink/biolinkml/\n",
    "  play: http://example.org/test/play/\n",
    "\n",
    "default_range: string\n",
    "default_prefix: play\n",
    "\n",
    "imports:\n",
    "  - biolinkml:types\n",
    "\n",
    "\n",
    "enums:\n",
    "  Unusual enum patterns:\n",
    "    description: Very odd enumeration\n",
    "    permissible_values:\n",
    "      M: Normal selection\n",
    "      1: Numeric selection\n",
    "      def: Python reserved word\n",
    "      \"embedded space\": Embedded space\n",
    "      \"% ! -- whoo\": Really weird stuff"
   ],
   "metadata": {
    "collapsed": false,
    "pycharm": {
     "name": "#%%\n"
    }
   }
  },
  {
   "cell_type": "code",
   "execution_count": 7,
   "outputs": [
    {
     "name": "stdout",
     "output_type": "stream",
     "text": [
      "# Auto generated from None by pythongen.py version: 0.9.0\n",
      "# Generation date: 2020-12-18 10:51\n",
      "# Schema: simple\n",
      "#\n",
      "# id: http://example.org/test/simple\n",
      "# description: Enumeration with some non-std values\n",
      "# license: https://creativecommons.org/publicdomain/zero/1.0/\n",
      "\n",
      "import dataclasses\n",
      "import sys\n",
      "import re\n",
      "from typing import Optional, List, Union, Dict, ClassVar, Any\n",
      "from dataclasses import dataclass\n",
      "from biolinkml.meta import EnumDefinition, PermissibleValue, PvFormulaOptions\n",
      "\n",
      "from biolinkml.utils.slot import Slot\n",
      "from biolinkml.utils.metamodelcore import empty_list, empty_dict, bnode\n",
      "from biolinkml.utils.yamlutils import YAMLRoot, extended_str, extended_float, extended_int\n",
      "if sys.version_info < (3, 7, 6):\n",
      "    from biolinkml.utils.dataclass_extensions_375 import dataclasses_init_fn_with_kwargs\n",
      "else:\n",
      "    from biolinkml.utils.dataclass_extensions_376 import dataclasses_init_fn_with_kwargs\n",
      "from biolinkml.utils.formatutils import camelcase, underscore, sfx\n",
      "from biolinkml.utils.enumerations import EnumDefinitionImpl\n",
      "from rdflib import Namespace, URIRef\n",
      "from biolinkml.utils.curienamespace import CurieNamespace\n",
      "\n",
      "\n",
      "metamodel_version = \"1.7.0\"\n",
      "\n",
      "# Overwrite dataclasses _init_fn to add **kwargs in __init__\n",
      "dataclasses._init_fn = dataclasses_init_fn_with_kwargs\n",
      "\n",
      "# Namespaces\n",
      "BIOLINKML = CurieNamespace('biolinkml', 'https://w3id.org/biolink/biolinkml/')\n",
      "PLAY = CurieNamespace('play', 'http://example.org/test/play/')\n",
      "DEFAULT_ = PLAY\n",
      "\n",
      "\n",
      "# Types\n",
      "\n",
      "# Class references\n",
      "\n",
      "\n",
      "\n",
      "\n",
      "# Enumerations\n",
      "class UnusualEnumPatterns(EnumDefinitionImpl):\n",
      "    \"\"\"\n",
      "    Very odd enumeration\n",
      "    \"\"\"\n",
      "    M = PermissibleValue(text=\"M\",\n",
      "                         description=\"Normal selection\")\n",
      "\n",
      "    _defn = EnumDefinition(\n",
      "        name=\"UnusualEnumPatterns\",\n",
      "        description=\"Very odd enumeration\",\n",
      "    )\n",
      "\n",
      "    @classmethod\n",
      "    def _addvals(cls):\n",
      "        setattr(PermissibleValue(text=\"1\",\n",
      "                                 description=\"Numeric selection\")\n",
      "        setattr(PermissibleValue(text=\"def\",\n",
      "                                 description=\"Python reserved word\")\n",
      "        setattr(PermissibleValue(text=\"embedded space\",\n",
      "                                 description=\"Embedded space\")\n",
      "        setattr(PermissibleValue(text=\"% ! -- whoo\",\n",
      "                                 description=\"Really weird stuff\")\n",
      "\n",
      "# Slots\n",
      "\n"
     ]
    },
    {
     "ename": "SyntaxError",
     "evalue": "invalid syntax (test, line 64)",
     "output_type": "error",
     "traceback": [
      "Traceback \u001B[0;36m(most recent call last)\u001B[0m:\n",
      "  File \u001B[1;32m\"/Users/hsolbrig/.local/share/virtualenvs/biolinkml-qtcpUCwe/lib/python3.9/site-packages/IPython/core/interactiveshell.py\"\u001B[0m, line \u001B[1;32m3418\u001B[0m, in \u001B[1;35mrun_code\u001B[0m\n    exec(code_obj, self.user_global_ns, self.user_ns)\n",
      "  File \u001B[1;32m\"<ipython-input-7-b7020cbaadb8>\"\u001B[0m, line \u001B[1;32m1\u001B[0m, in \u001B[1;35m<module>\u001B[0m\n    module = compile_model(model2, print_python=True)\n",
      "  File \u001B[1;32m\"<ipython-input-3-bfcdeaf2282c>\"\u001B[0m, line \u001B[1;32m10\u001B[0m, in \u001B[1;35mcompile_model\u001B[0m\n    return compile_python(code)\n",
      "\u001B[0;36m  File \u001B[0;32m\"/Users/hsolbrig/git/biolink/biolinkml/biolinkml/utils/compile_python.py\"\u001B[0;36m, line \u001B[0;32m28\u001B[0;36m, in \u001B[0;35mcompile_python\u001B[0;36m\u001B[0m\n\u001B[0;31m    spec = compile(python_txt, 'test', 'exec')\u001B[0m\n",
      "\u001B[0;36m  File \u001B[0;32m\"test\"\u001B[0;36m, line \u001B[0;32m64\u001B[0m\n\u001B[0;31m    setattr(PermissibleValue(text=\"def\",\u001B[0m\n\u001B[0m    ^\u001B[0m\n\u001B[0;31mSyntaxError\u001B[0m\u001B[0;31m:\u001B[0m invalid syntax\n"
     ]
    }
   ],
   "source": [
    "module = compile_model(model2, print_python=True)\n"
   ],
   "metadata": {
    "collapsed": false,
    "pycharm": {
     "name": "#%%\n"
    }
   }
  },
  {
   "cell_type": "code",
   "execution_count": null,
   "outputs": [],
   "source": [
    "%%yaml model\n",
    "id: http://example.org/test/simple\n",
    "name: simple\n",
    "description: Very simple enumeration\n",
    "\n",
    "prefixes:\n",
    "  biolinkml: https://w3id.org/biolink/biolinkml/\n",
    "  play: http://example.org/test/play/\n",
    "  SCT: http://snomed.info/id/\n",
    "\n",
    "default_range: string\n",
    "default_prefix: play\n",
    "\n",
    "imports:\n",
    "  - biolinkml:types\n",
    "\n",
    "enums:\n",
    "  Colors:\n",
    "    description: Color values, mapped to SNOMED CT\n",
    "    permissible_values:\n",
    "      1:\n",
    "        description: Red\n",
    "        meaning: SCT:371240000\n",
    "      2:\n",
    "        description: Yellow\n",
    "        meaning: SCT:371244009\n",
    "      3:\n",
    "        meaning: SCT:405738005\n",
    "      4:\n",
    "        description: Muted\n",
    "        meaning: SCT:abcde\n",
    "        notes:\n",
    "            - Note that CURIEs are not validated if a code_set is not specified\n",
    "      9:\n",
    "        description: Muddy\n",
    "        notes:\n",
    "            - \"There isn't a SCT map for this term\"\n",
    "\n",
    "classes:\n",
    "    FavoriteColor:\n",
    "        attributes:\n",
    "            id:\n",
    "                range: string\n",
    "                identifier: true\n",
    "            position:\n",
    "                range: Colors\n",
    "                required: true"
   ],
   "metadata": {
    "collapsed": false,
    "pycharm": {
     "name": "#%%\n"
    }
   }
  },
  {
   "cell_type": "code",
   "execution_count": null,
   "metadata": {
    "execution": {
     "iopub.execute_input": "2020-11-19T15:45:55.629164Z",
     "iopub.status.busy": "2020-11-19T15:45:55.628471Z",
     "iopub.status.idle": "2020-11-19T15:45:55.796889Z",
     "shell.execute_reply": "2020-11-19T15:45:55.797423Z"
    },
    "pycharm": {
     "name": "#%%\n"
    }
   },
   "outputs": [],
   "source": [
    "gen = PythonGenerator(model2, log_level=ERROR)\n",
    "gen_python = gen.serialize()\n",
    "module = compile_python(gen_python)\n",
    "c1 = module.FavoriteColor('Harold', '3')\n",
    "print(str(c1))\n",
    "try:\n",
    "    c2 = module.FavoriteColor('Chris', '8')\n",
    "except ValueError as e:\n",
    "    print(e)\n",
    "#print(gen_python)\n",
    "\n",
    "\n"
   ]
  }
 ],
 "metadata": {
  "kernelspec": {
   "display_name": "Python 3",
   "language": "python",
   "name": "python3"
  },
  "language_info": {
   "codemirror_mode": {
    "name": "ipython",
    "version": 3
   },
   "file_extension": ".py",
   "mimetype": "text/x-python",
   "name": "python",
   "nbconvert_exporter": "python",
   "pygments_lexer": "ipython3",
   "version": "3.8.3"
  }
 },
 "nbformat": 4,
 "nbformat_minor": 1
}